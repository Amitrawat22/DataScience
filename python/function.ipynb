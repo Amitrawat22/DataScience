{
 "cells": [
  {
   "cell_type": "markdown",
   "id": "bce2bcce",
   "metadata": {},
   "source": [
    "# why functions, positional and keyword arguments in functions\n"
   ]
  },
  {
   "cell_type": "code",
   "execution_count": 1,
   "id": "58ec0572",
   "metadata": {},
   "outputs": [
    {
     "name": "stdout",
     "output_type": "stream",
     "text": [
      "even\n"
     ]
    }
   ],
   "source": [
    "nums=24\n"
   ]
  },
  {
   "cell_type": "code",
   "execution_count": 2,
   "id": "9353140b",
   "metadata": {},
   "outputs": [],
   "source": [
    "def even_odd(nums):\n",
    "    if nums%2 == 0:\n",
    "        print(\"even\")\n",
    "    else:\n",
    "        print(\"odd\")"
   ]
  },
  {
   "cell_type": "code",
   "execution_count": 3,
   "id": "dd7538b9",
   "metadata": {},
   "outputs": [
    {
     "name": "stdout",
     "output_type": "stream",
     "text": [
      "odd\n"
     ]
    }
   ],
   "source": [
    "even_odd(25)"
   ]
  },
  {
   "cell_type": "code",
   "execution_count": 10,
   "id": "00783764",
   "metadata": {},
   "outputs": [],
   "source": [
    "#print vs return\n",
    "def hello_world():\n",
    "    return \"hello worlds\""
   ]
  },
  {
   "cell_type": "code",
   "execution_count": 11,
   "id": "0b274b06",
   "metadata": {},
   "outputs": [],
   "source": [
    "var = hello_world()"
   ]
  },
  {
   "cell_type": "code",
   "execution_count": 12,
   "id": "39e649ac",
   "metadata": {},
   "outputs": [
    {
     "name": "stdout",
     "output_type": "stream",
     "text": [
      "hello worlds\n"
     ]
    }
   ],
   "source": [
    "print(var)"
   ]
  },
  {
   "cell_type": "code",
   "execution_count": 20,
   "id": "ba6a283b",
   "metadata": {},
   "outputs": [],
   "source": [
    "\n",
    "def hello(name,age=29):\n",
    "    print(f\"Name is {name} and age is {age}\")"
   ]
  },
  {
   "cell_type": "code",
   "execution_count": 21,
   "id": "2aa59abd",
   "metadata": {},
   "outputs": [
    {
     "name": "stdout",
     "output_type": "stream",
     "text": [
      "Name is Rahul and age is 30\n"
     ]
    }
   ],
   "source": [
    "hello('Rahul',30)"
   ]
  },
  {
   "cell_type": "code",
   "execution_count": 22,
   "id": "118276c1",
   "metadata": {},
   "outputs": [],
   "source": [
    "# *positional. argument and kwrgs is keyword argumnet\n",
    "def hello(*args,**kwargs):\n",
    "        print(args)\n",
    "        print(kwargs)\n",
    "    "
   ]
  },
  {
   "cell_type": "code",
   "execution_count": 23,
   "id": "49f713a5",
   "metadata": {},
   "outputs": [
    {
     "name": "stdout",
     "output_type": "stream",
     "text": [
      "('Amit', 'Rawat')\n",
      "{'age': 29, 'dob': 1990}\n"
     ]
    }
   ],
   "source": [
    "hello(\"Amit\",\"Rawat\",age=29,dob=1990)"
   ]
  },
  {
   "cell_type": "code",
   "execution_count": 27,
   "id": "c42be636",
   "metadata": {},
   "outputs": [],
   "source": [
    "lst = ['Amit', 'Rawat']\n",
    "dicxt = {'age': 21, 'dob': 2002}"
   ]
  },
  {
   "cell_type": "code",
   "execution_count": 29,
   "id": "228afc4a",
   "metadata": {},
   "outputs": [
    {
     "name": "stdout",
     "output_type": "stream",
     "text": [
      "('Amit', 'Rawat')\n",
      "{'age': 21, 'dob': 2002}\n"
     ]
    }
   ],
   "source": [
    "hello(*lst,**dicxt) #make it as positional and keyword argument"
   ]
  },
  {
   "cell_type": "code",
   "execution_count": 30,
   "id": "bc5cb5f7",
   "metadata": {},
   "outputs": [
    {
     "name": "stdout",
     "output_type": "stream",
     "text": [
      "(['Amit', 'Rawat'], {'age': 21, 'dob': 2002})\n",
      "{}\n"
     ]
    }
   ],
   "source": [
    "hello(lst,dicxt)"
   ]
  },
  {
   "cell_type": "code",
   "execution_count": 32,
   "id": "00254a8d",
   "metadata": {},
   "outputs": [],
   "source": [
    "lst = [1,2,3,4,5,6,7,8]\n",
    "def evenoddsum(lst):\n",
    "    even = 0\n",
    "    odd = 0\n",
    "    for i in lst:\n",
    "        if i%2 == 0:\n",
    "            even += i\n",
    "        else:\n",
    "            odd += i\n",
    "    return even,odd"
   ]
  },
  {
   "cell_type": "code",
   "execution_count": 34,
   "id": "c20fe59c",
   "metadata": {},
   "outputs": [
    {
     "data": {
      "text/plain": [
       "(20, 16)"
      ]
     },
     "execution_count": 34,
     "metadata": {},
     "output_type": "execute_result"
    }
   ],
   "source": [
    "evenoddsum(lst)"
   ]
  },
  {
   "cell_type": "markdown",
   "id": "bef68cf2",
   "metadata": {},
   "source": [
    "# lambda function \n",
    "anonymous fucntion\n",
    "a function with no name\n",
    "it is only possible when we have single expression"
   ]
  },
  {
   "cell_type": "code",
   "execution_count": 35,
   "id": "8e88b842",
   "metadata": {},
   "outputs": [],
   "source": [
    "def addition(a,b):\n",
    "    return a+b"
   ]
  },
  {
   "cell_type": "code",
   "execution_count": 36,
   "id": "ce93a817",
   "metadata": {},
   "outputs": [
    {
     "data": {
      "text/plain": [
       "9"
      ]
     },
     "execution_count": 36,
     "metadata": {},
     "output_type": "execute_result"
    }
   ],
   "source": [
    "addition(4,5)"
   ]
  },
  {
   "cell_type": "code",
   "execution_count": 37,
   "id": "3ad79340",
   "metadata": {},
   "outputs": [],
   "source": [
    "addition = lambda a,b:a+b\n"
   ]
  },
  {
   "cell_type": "code",
   "execution_count": 41,
   "id": "74c87286",
   "metadata": {},
   "outputs": [
    {
     "data": {
      "text/plain": [
       "91"
      ]
     },
     "execution_count": 41,
     "metadata": {},
     "output_type": "execute_result"
    }
   ],
   "source": [
    "addition(40,51)"
   ]
  },
  {
   "cell_type": "code",
   "execution_count": 44,
   "id": "996627e4",
   "metadata": {},
   "outputs": [],
   "source": [
    "def even(num):\n",
    "    if num%2==0:\n",
    "        return True"
   ]
  },
  {
   "cell_type": "code",
   "execution_count": 45,
   "id": "7ad30601",
   "metadata": {},
   "outputs": [
    {
     "data": {
      "text/plain": [
       "True"
      ]
     },
     "execution_count": 45,
     "metadata": {},
     "output_type": "execute_result"
    }
   ],
   "source": [
    "even(24)"
   ]
  },
  {
   "cell_type": "code",
   "execution_count": 46,
   "id": "83090b5f",
   "metadata": {},
   "outputs": [],
   "source": [
    "even = lambda num:num%2==0"
   ]
  },
  {
   "cell_type": "code",
   "execution_count": 47,
   "id": "242e5cfa",
   "metadata": {},
   "outputs": [
    {
     "data": {
      "text/plain": [
       "True"
      ]
     },
     "execution_count": 47,
     "metadata": {},
     "output_type": "execute_result"
    }
   ],
   "source": [
    "even(24)"
   ]
  },
  {
   "cell_type": "code",
   "execution_count": 48,
   "id": "99e6ed96",
   "metadata": {},
   "outputs": [],
   "source": [
    "def addition(x,y,z):\n",
    "    return z+y+x"
   ]
  },
  {
   "cell_type": "code",
   "execution_count": 49,
   "id": "ec7c26d0",
   "metadata": {},
   "outputs": [
    {
     "data": {
      "text/plain": [
       "9"
      ]
     },
     "execution_count": 49,
     "metadata": {},
     "output_type": "execute_result"
    }
   ],
   "source": [
    "addition(2,3,4)"
   ]
  },
  {
   "cell_type": "code",
   "execution_count": 50,
   "id": "cd97f787",
   "metadata": {},
   "outputs": [],
   "source": [
    "add = lambda a,b,c:a+b+c\n"
   ]
  },
  {
   "cell_type": "code",
   "execution_count": 51,
   "id": "1dc25bd7",
   "metadata": {},
   "outputs": [
    {
     "data": {
      "text/plain": [
       "12"
      ]
     },
     "execution_count": 51,
     "metadata": {},
     "output_type": "execute_result"
    }
   ],
   "source": [
    "add(3,4,5)"
   ]
  },
  {
   "cell_type": "markdown",
   "id": "8e14122b",
   "metadata": {},
   "source": [
    "# Map Function\n"
   ]
  },
  {
   "cell_type": "code",
   "execution_count": 58,
   "id": "fcbe2265",
   "metadata": {},
   "outputs": [],
   "source": [
    "def even_odd(num):\n",
    "    if num%2==0:\n",
    "        return f\"The number {num} is even\"\n",
    "    else:\n",
    "        return f\"The number {num} is odd\""
   ]
  },
  {
   "cell_type": "code",
   "execution_count": 59,
   "id": "f9fd28c7",
   "metadata": {},
   "outputs": [
    {
     "data": {
      "text/plain": [
       "'The number 21 is odd'"
      ]
     },
     "execution_count": 59,
     "metadata": {},
     "output_type": "execute_result"
    }
   ],
   "source": [
    "even_odd(21)"
   ]
  },
  {
   "cell_type": "code",
   "execution_count": 60,
   "id": "c5378ac7",
   "metadata": {},
   "outputs": [],
   "source": [
    "lst = [1,2,3,4,5,6,7,8,9,24,56,78,91]\n"
   ]
  },
  {
   "cell_type": "code",
   "execution_count": 62,
   "id": "b73f743e",
   "metadata": {},
   "outputs": [
    {
     "data": {
      "text/plain": [
       "['The number 1 is odd',\n",
       " 'The number 2 is even',\n",
       " 'The number 3 is odd',\n",
       " 'The number 4 is even',\n",
       " 'The number 5 is odd',\n",
       " 'The number 6 is even',\n",
       " 'The number 7 is odd',\n",
       " 'The number 8 is even',\n",
       " 'The number 9 is odd',\n",
       " 'The number 24 is even',\n",
       " 'The number 56 is even',\n",
       " 'The number 78 is even',\n",
       " 'The number 91 is odd']"
      ]
     },
     "execution_count": 62,
     "metadata": {},
     "output_type": "execute_result"
    }
   ],
   "source": [
    "list(map(even_odd,lst))"
   ]
  },
  {
   "cell_type": "markdown",
   "id": "db3e07ea",
   "metadata": {},
   "source": [
    "# Filter Function\n"
   ]
  },
  {
   "cell_type": "code",
   "execution_count": 63,
   "id": "b4979214",
   "metadata": {},
   "outputs": [],
   "source": [
    "def even(num):\n",
    "    if num%2 == 0:\n",
    "        return True\n",
    "    "
   ]
  },
  {
   "cell_type": "code",
   "execution_count": 64,
   "id": "7401aaff",
   "metadata": {},
   "outputs": [],
   "source": [
    "lst = [1,2,3,4,5,5,6,7,8,9,11]"
   ]
  },
  {
   "cell_type": "code",
   "execution_count": 66,
   "id": "e3b1d205",
   "metadata": {},
   "outputs": [
    {
     "data": {
      "text/plain": [
       "[2, 4, 6, 8]"
      ]
     },
     "execution_count": 66,
     "metadata": {},
     "output_type": "execute_result"
    }
   ],
   "source": [
    "list(filter(even,lst))"
   ]
  },
  {
   "cell_type": "code",
   "execution_count": 67,
   "id": "ee7c4439",
   "metadata": {},
   "outputs": [
    {
     "data": {
      "text/plain": [
       "<filter at 0x7fd4001433d0>"
      ]
     },
     "execution_count": 67,
     "metadata": {},
     "output_type": "execute_result"
    }
   ],
   "source": [
    "filter(lambda num:num%2==0,lst)"
   ]
  },
  {
   "cell_type": "code",
   "execution_count": 68,
   "id": "453d6321",
   "metadata": {},
   "outputs": [
    {
     "data": {
      "text/plain": [
       "[2, 4, 6, 8]"
      ]
     },
     "execution_count": 68,
     "metadata": {},
     "output_type": "execute_result"
    }
   ],
   "source": [
    "list(filter(lambda num:num%2==0,lst))"
   ]
  },
  {
   "cell_type": "code",
   "execution_count": 69,
   "id": "960075ff",
   "metadata": {},
   "outputs": [
    {
     "data": {
      "text/plain": [
       "[False, True, False, True, False, False, True, False, True, False, False]"
      ]
     },
     "execution_count": 69,
     "metadata": {},
     "output_type": "execute_result"
    }
   ],
   "source": [
    "list(map(lambda num:num%2==0,lst))"
   ]
  },
  {
   "cell_type": "markdown",
   "id": "ba8e21c9",
   "metadata": {},
   "source": [
    "# List comprehension\n",
    "List comprehensions provides a concise way to create lists. It consists of brackets containing an expression followed bt a for clause then zero or more for or it clauses the expressions can be anything meaning you can put in all kinds of objects in lists."
   ]
  },
  {
   "cell_type": "code",
   "execution_count": 80,
   "id": "099b922d",
   "metadata": {},
   "outputs": [],
   "source": [
    "lst1 = []\n",
    "def lst_square(lst):\n",
    "    for i in lst:\n",
    "        lst1.append(i*i)\n",
    "    return lst1"
   ]
  },
  {
   "cell_type": "code",
   "execution_count": 82,
   "id": "000e9dc4",
   "metadata": {},
   "outputs": [
    {
     "data": {
      "text/plain": [
       "[1, 4, 9, 16, 25, 36, 49, 64]"
      ]
     },
     "execution_count": 82,
     "metadata": {},
     "output_type": "execute_result"
    }
   ],
   "source": [
    "lst_square([1,2,3,4,5,6,7,8])"
   ]
  },
  {
   "cell_type": "code",
   "execution_count": 83,
   "id": "7ff2ae89",
   "metadata": {},
   "outputs": [
    {
     "data": {
      "text/plain": [
       "[1, 16, 81, 256, 625, 1296, 2401, 4096]"
      ]
     },
     "execution_count": 83,
     "metadata": {},
     "output_type": "execute_result"
    }
   ],
   "source": [
    "#converting above in list comprehension\n",
    "[i*i for i in lst1]"
   ]
  },
  {
   "cell_type": "code",
   "execution_count": 84,
   "id": "9cbddb63",
   "metadata": {},
   "outputs": [],
   "source": [
    "lst1 = [1,2,3,4,5,6,7,8]"
   ]
  },
  {
   "cell_type": "code",
   "execution_count": 85,
   "id": "c7a23967",
   "metadata": {},
   "outputs": [
    {
     "data": {
      "text/plain": [
       "[4, 16, 36, 64]"
      ]
     },
     "execution_count": 85,
     "metadata": {},
     "output_type": "execute_result"
    }
   ],
   "source": [
    "[i*i for i in lst1 if i%2==0]"
   ]
  },
  {
   "cell_type": "code",
   "execution_count": null,
   "id": "8e3fd4ce",
   "metadata": {},
   "outputs": [],
   "source": []
  }
 ],
 "metadata": {
  "kernelspec": {
   "display_name": "Python 3 (ipykernel)",
   "language": "python",
   "name": "python3"
  },
  "language_info": {
   "codemirror_mode": {
    "name": "ipython",
    "version": 3
   },
   "file_extension": ".py",
   "mimetype": "text/x-python",
   "name": "python",
   "nbconvert_exporter": "python",
   "pygments_lexer": "ipython3",
   "version": "3.9.13"
  }
 },
 "nbformat": 4,
 "nbformat_minor": 5
}
