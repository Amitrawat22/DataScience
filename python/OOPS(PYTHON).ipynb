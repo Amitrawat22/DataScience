{
 "cells": [
  {
   "cell_type": "markdown",
   "id": "aac6d0e3",
   "metadata": {},
   "source": [
    "# OOPS in Python"
   ]
  },
  {
   "cell_type": "code",
   "execution_count": 2,
   "id": "3a22099d",
   "metadata": {},
   "outputs": [],
   "source": [
    "class car:\n",
    "    pass"
   ]
  },
  {
   "cell_type": "code",
   "execution_count": 3,
   "id": "acc28bc9",
   "metadata": {},
   "outputs": [],
   "source": [
    "#pass -> empty class doesn't have anything inside the class"
   ]
  },
  {
   "cell_type": "code",
   "execution_count": 5,
   "id": "ecd4d6be",
   "metadata": {},
   "outputs": [],
   "source": [
    "car1  = car()"
   ]
  },
  {
   "cell_type": "code",
   "execution_count": 18,
   "id": "50b70d72",
   "metadata": {},
   "outputs": [
    {
     "data": {
      "text/plain": [
       "['__class__',\n",
       " '__delattr__',\n",
       " '__dict__',\n",
       " '__dir__',\n",
       " '__doc__',\n",
       " '__eq__',\n",
       " '__format__',\n",
       " '__ge__',\n",
       " '__getattribute__',\n",
       " '__gt__',\n",
       " '__hash__',\n",
       " '__init__',\n",
       " '__init_subclass__',\n",
       " '__le__',\n",
       " '__lt__',\n",
       " '__module__',\n",
       " '__ne__',\n",
       " '__new__',\n",
       " '__reduce__',\n",
       " '__reduce_ex__',\n",
       " '__repr__',\n",
       " '__setattr__',\n",
       " '__sizeof__',\n",
       " '__str__',\n",
       " '__subclasshook__',\n",
       " '__weakref__',\n",
       " 'doors',\n",
       " 'windows']"
      ]
     },
     "execution_count": 18,
     "metadata": {},
     "output_type": "execute_result"
    }
   ],
   "source": [
    "dir(car1)"
   ]
  },
  {
   "cell_type": "code",
   "execution_count": 6,
   "id": "1a51d866",
   "metadata": {},
   "outputs": [
    {
     "data": {
      "text/plain": [
       "<__main__.car at 0x7f9ac82cf3d0>"
      ]
     },
     "execution_count": 6,
     "metadata": {},
     "output_type": "execute_result"
    }
   ],
   "source": [
    "car1"
   ]
  },
  {
   "cell_type": "code",
   "execution_count": 7,
   "id": "ac55a12d",
   "metadata": {},
   "outputs": [],
   "source": [
    "car1.windows = 5\n",
    "car1.doors = 4\n"
   ]
  },
  {
   "cell_type": "code",
   "execution_count": 8,
   "id": "5646dd5b",
   "metadata": {},
   "outputs": [
    {
     "name": "stdout",
     "output_type": "stream",
     "text": [
      "5\n"
     ]
    }
   ],
   "source": [
    "print(car1.windows)"
   ]
  },
  {
   "cell_type": "code",
   "execution_count": 9,
   "id": "5fdf9827",
   "metadata": {},
   "outputs": [],
   "source": [
    "car2 = car()"
   ]
  },
  {
   "cell_type": "code",
   "execution_count": 11,
   "id": "89a3f22f",
   "metadata": {},
   "outputs": [],
   "source": [
    "car2.windows = 8\n",
    "car2.doors = 6"
   ]
  },
  {
   "cell_type": "code",
   "execution_count": 12,
   "id": "3ed0586d",
   "metadata": {},
   "outputs": [
    {
     "name": "stdout",
     "output_type": "stream",
     "text": [
      "8\n"
     ]
    }
   ],
   "source": [
    "print(car2.windows)"
   ]
  },
  {
   "cell_type": "code",
   "execution_count": 13,
   "id": "cb71c097",
   "metadata": {},
   "outputs": [],
   "source": [
    "car2.engine_type = \"petrol\""
   ]
  },
  {
   "cell_type": "code",
   "execution_count": 14,
   "id": "19861f0e",
   "metadata": {},
   "outputs": [
    {
     "name": "stdout",
     "output_type": "stream",
     "text": [
      "petrol\n"
     ]
    }
   ],
   "source": [
    "print(car2.engine_type)"
   ]
  },
  {
   "cell_type": "code",
   "execution_count": 15,
   "id": "24735e65",
   "metadata": {},
   "outputs": [],
   "source": [
    "#good approach\n"
   ]
  },
  {
   "cell_type": "code",
   "execution_count": 33,
   "id": "ba949a94",
   "metadata": {},
   "outputs": [],
   "source": [
    "#init funtion acts as a constructor:\n",
    "class cars:\n",
    "    def __init__(self,window,door,engine_type):\n",
    "        self.windows = window\n",
    "        self.doors = door\n",
    "        self.enginetype = engine_type\n",
    "    def self_driving(self):\n",
    "        return f\"This is a {self.enginetype} car\"\n"
   ]
  },
  {
   "cell_type": "code",
   "execution_count": 36,
   "id": "9a8dcc7d",
   "metadata": {},
   "outputs": [],
   "source": [
    "car1 = cars(4,4,\"Petrol\")"
   ]
  },
  {
   "cell_type": "code",
   "execution_count": 37,
   "id": "6d2101d9",
   "metadata": {},
   "outputs": [
    {
     "data": {
      "text/plain": [
       "'This is a Petrol car'"
      ]
     },
     "execution_count": 37,
     "metadata": {},
     "output_type": "execute_result"
    }
   ],
   "source": [
    "car1.self_driving()"
   ]
  },
  {
   "cell_type": "code",
   "execution_count": 39,
   "id": "e76a364b",
   "metadata": {},
   "outputs": [],
   "source": [
    "car2 = cars(6,6,\"Diesel\")"
   ]
  },
  {
   "cell_type": "code",
   "execution_count": 26,
   "id": "26ba7408",
   "metadata": {},
   "outputs": [
    {
     "name": "stdout",
     "output_type": "stream",
     "text": [
      "4\n"
     ]
    }
   ],
   "source": [
    "print(car1.windows)"
   ]
  },
  {
   "cell_type": "code",
   "execution_count": 27,
   "id": "7064094d",
   "metadata": {},
   "outputs": [
    {
     "name": "stdout",
     "output_type": "stream",
     "text": [
      "Diesel\n"
     ]
    }
   ],
   "source": [
    "print(car2.enginetype)"
   ]
  },
  {
   "cell_type": "code",
   "execution_count": 28,
   "id": "81a60de7",
   "metadata": {},
   "outputs": [
    {
     "name": "stdout",
     "output_type": "stream",
     "text": [
      "Petrol\n"
     ]
    }
   ],
   "source": [
    "print(car1.enginetype)"
   ]
  },
  {
   "cell_type": "code",
   "execution_count": 40,
   "id": "ec60d3e8",
   "metadata": {},
   "outputs": [
    {
     "data": {
      "text/plain": [
       "'This is a Diesel car'"
      ]
     },
     "execution_count": 40,
     "metadata": {},
     "output_type": "execute_result"
    }
   ],
   "source": [
    "car2.self_driving()"
   ]
  },
  {
   "cell_type": "code",
   "execution_count": null,
   "id": "57b9ce3d",
   "metadata": {},
   "outputs": [],
   "source": []
  }
 ],
 "metadata": {
  "kernelspec": {
   "display_name": "Python 3 (ipykernel)",
   "language": "python",
   "name": "python3"
  },
  "language_info": {
   "codemirror_mode": {
    "name": "ipython",
    "version": 3
   },
   "file_extension": ".py",
   "mimetype": "text/x-python",
   "name": "python",
   "nbconvert_exporter": "python",
   "pygments_lexer": "ipython3",
   "version": "3.9.13"
  }
 },
 "nbformat": 4,
 "nbformat_minor": 5
}
