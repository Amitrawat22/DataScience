{
 "cells": [
  {
   "cell_type": "markdown",
   "id": "253e50e4",
   "metadata": {},
   "source": [
    "# acronym genereator:\n"
   ]
  },
  {
   "cell_type": "code",
   "execution_count": 4,
   "id": "4c38333b",
   "metadata": {},
   "outputs": [
    {
     "name": "stdout",
     "output_type": "stream",
     "text": [
      "enter a phrase :Hello Everyone, my self amit rawat\n",
      " HEMSAR\n"
     ]
    }
   ],
   "source": [
    "user_input = str(input(\"enter a phrase :\"))\n",
    "text = user_input.split()\n",
    "a = \" \"\n",
    "for i in text:\n",
    "    a = a+str(i[0]).upper()\n",
    "print(a)"
   ]
  },
  {
   "cell_type": "markdown",
   "id": "59a45b1a",
   "metadata": {},
   "source": [
    "# alarm clock\n"
   ]
  },
  {
   "cell_type": "code",
   "execution_count": 2,
   "id": "be22c079",
   "metadata": {
    "scrolled": true
   },
   "outputs": [
    {
     "name": "stdout",
     "output_type": "stream",
     "text": [
      "enter the time of alarm to be set : HH:MM:SS\n",
      "09:05:45 PM\n",
      "setting up alarm....\n",
      "Wake up time !\n"
     ]
    }
   ],
   "source": [
    "import time\n",
    "from datetime import datetime\n",
    "from playsound import playsound\n",
    "alarm_time = input(\"enter the time of alarm to be set : HH:MM:SS\\n\")\n",
    "alarm_hours = alarm_time[0:2]\n",
    "alarm_minutes = alarm_time[3:5]\n",
    "alarm_seconds = alarm_time[6:8]\n",
    "alarm_period = alarm_time[9:11].upper()\n",
    "print(\"setting up alarm....\")\n",
    "while True:\n",
    "    now = datetime.now()\n",
    "    current_hour = now.strftime(\"%I\")\n",
    "    current_minute = now.strftime(\"%M\")\n",
    "    current_second = now.strftime(\"%S\")\n",
    "    current_period = now.strftime(\"%p\")\n",
    "    if alarm_period == current_period:\n",
    "        if alarm_hours == current_hour:\n",
    "            if alarm_minutes == current_minute:\n",
    "                if alarm_seconds == current_second:\n",
    "                    print(\"Wake up time !\")\n",
    "                    break"
   ]
  },
  {
   "cell_type": "code",
   "execution_count": null,
   "id": "f92834c6",
   "metadata": {},
   "outputs": [],
   "source": [
    "from datetime import datetime\n",
    "import time\n",
    "\n",
    "alarm_time = input(\"Enter the time of the alarm to be set (HH:MM:SS AM/PM)\\n\")\n",
    "alarm_time = alarm_time.upper()  # Convert to uppercase to handle 'am' or 'pm'\n",
    "\n",
    "try:\n",
    "    alarm_time = datetime.strptime(alarm_time, \"%I:%M:%S %p\")\n",
    "except ValueError:\n",
    "    print(\"Invalid time format. Please use HH:MM:SS AM/PM.\")\n",
    "    exit(1)\n",
    "\n",
    "print(\"Setting up alarm for\", alarm_time.strftime(\"%I:%M:%S %p\"))\n",
    "\n",
    "while True:\n",
    "    now = datetime.now()\n",
    "    if now >= alarm_time:\n",
    "        print(\"Wake up time!\")\n",
    "        break\n",
    "    time.sleep(1)  # Check the time every 1 second"
   ]
  },
  {
   "cell_type": "markdown",
   "id": "1aa2e246",
   "metadata": {},
   "source": [
    "# Email slicer "
   ]
  },
  {
   "cell_type": "code",
   "execution_count": 1,
   "id": "83ef13eb",
   "metadata": {},
   "outputs": [
    {
     "name": "stdout",
     "output_type": "stream",
     "text": [
      "enter the email amitrawat@gmail.com\n",
      "your username is amitrawat and domain name is gmail.com\n"
     ]
    }
   ],
   "source": [
    "email = input(\"enter the email \").strip()\n",
    "#strip is used to remove whitespaces if any:\n",
    "username = email[:email.index(\"@\")]\n",
    "domain_name = email[email.index(\"@\")+1:]\n",
    "\n",
    "print(f\"your username is {username} and domain name is {domain_name}\")"
   ]
  },
  {
   "cell_type": "markdown",
   "id": "40d90c48",
   "metadata": {},
   "source": [
    "# Story generator:\n"
   ]
  },
  {
   "cell_type": "code",
   "execution_count": 10,
   "id": "7f18ed3f",
   "metadata": {},
   "outputs": [
    {
     "name": "stdout",
     "output_type": "stream",
     "text": [
      "A few years ago, a horse lived in new york starts playing\n"
     ]
    }
   ],
   "source": [
    "import random\n",
    "when = ['A few years ago','Last time','On 7th April','Previous month']\n",
    "who = ['a man','an elephant','a horse','my friend']\n",
    "place = ['delhi','banglore','new york','vatican city']\n",
    "activity = ['jumping','running','playing','learning']\n",
    "\n",
    "print(random.choice(when)+ ', '+random.choice(who)+ \" lived in \"+ random.choice(place)+ \" starts \" + random.choice(activity))"
   ]
  },
  {
   "cell_type": "code",
   "execution_count": null,
   "id": "e2a52c45",
   "metadata": {},
   "outputs": [],
   "source": []
  },
  {
   "cell_type": "code",
   "execution_count": null,
   "id": "48be9877",
   "metadata": {},
   "outputs": [],
   "source": []
  }
 ],
 "metadata": {
  "kernelspec": {
   "display_name": "Python 3 (ipykernel)",
   "language": "python",
   "name": "python3"
  },
  "language_info": {
   "codemirror_mode": {
    "name": "ipython",
    "version": 3
   },
   "file_extension": ".py",
   "mimetype": "text/x-python",
   "name": "python",
   "nbconvert_exporter": "python",
   "pygments_lexer": "ipython3",
   "version": "3.9.13"
  }
 },
 "nbformat": 4,
 "nbformat_minor": 5
}
